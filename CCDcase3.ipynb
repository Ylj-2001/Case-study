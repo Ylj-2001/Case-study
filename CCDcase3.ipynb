{
 "cells": [
  {
   "cell_type": "code",
   "execution_count": 3,
   "metadata": {},
   "outputs": [
    {
     "ename": "TypeError",
     "evalue": "list indices must be integers or slices, not tuple",
     "output_type": "error",
     "traceback": [
      "\u001b[1;31m---------------------------------------------------------------------------\u001b[0m",
      "\u001b[1;31mTypeError\u001b[0m                                 Traceback (most recent call last)",
      "Cell \u001b[1;32mIn[3], line 29\u001b[0m\n\u001b[0;32m     27\u001b[0m points \u001b[38;5;241m=\u001b[39m datal\n\u001b[0;32m     28\u001b[0m \u001b[38;5;66;03m# 将点投影到标准化椭球表面\u001b[39;00m\n\u001b[1;32m---> 29\u001b[0m norm_points \u001b[38;5;241m=\u001b[39m points \u001b[38;5;241m/\u001b[39m np\u001b[38;5;241m.\u001b[39msqrt((\u001b[43mpoints\u001b[49m\u001b[43m[\u001b[49m\u001b[43m:\u001b[49m\u001b[43m,\u001b[49m\u001b[43m \u001b[49m\u001b[38;5;241;43m0\u001b[39;49m\u001b[43m]\u001b[49m \u001b[38;5;241m/\u001b[39m a)\u001b[38;5;241m*\u001b[39m\u001b[38;5;241m*\u001b[39m\u001b[38;5;241m2\u001b[39m \u001b[38;5;241m+\u001b[39m (points[:, \u001b[38;5;241m1\u001b[39m] \u001b[38;5;241m/\u001b[39m b)\u001b[38;5;241m*\u001b[39m\u001b[38;5;241m*\u001b[39m\u001b[38;5;241m2\u001b[39m \u001b[38;5;241m+\u001b[39m (points[:, \u001b[38;5;241m2\u001b[39m] \u001b[38;5;241m/\u001b[39m c)\u001b[38;5;241m*\u001b[39m\u001b[38;5;241m*\u001b[39m\u001b[38;5;241m2\u001b[39m)[:, \u001b[38;5;28;01mNone\u001b[39;00m]\n\u001b[0;32m     30\u001b[0m \u001b[38;5;66;03m# 转换为极坐标\u001b[39;00m\n\u001b[0;32m     31\u001b[0m theta \u001b[38;5;241m=\u001b[39m np\u001b[38;5;241m.\u001b[39marccos(norm_points[:, \u001b[38;5;241m2\u001b[39m])  \u001b[38;5;66;03m# 极角\u001b[39;00m\n",
      "\u001b[1;31mTypeError\u001b[0m: list indices must be integers or slices, not tuple"
     ]
    }
   ],
   "source": [
    "import numpy as np\n",
    "from scipy.integrate import nquad\n",
    "from shapely.geometry import Point, Polygon\n",
    "import pandas as pd\n",
    "\n",
    "\n",
    "#######模拟数据\n",
    "# AR数据\n",
    "data2 = pd.read_csv('data12A_points.csv',header=None)\n",
    "data2 = np.array(data2)\n",
    "# SR数据\n",
    "data3 = pd.read_csv('data12S_points.csv',header=None)\n",
    "data3 = np.array(data3)\n",
    "# IRT数据\n",
    "data1 = pd.read_csv('data12I_points.csv',header=None)\n",
    "data1 = np.array(data1)\n",
    "\n",
    "n = 10\n",
    "\n",
    "# 椭球方程参数\n",
    "a, b, c = 2, 3, 1  # 半轴长度\n",
    "\n",
    "\n",
    "\n",
    "datal =[data1,data2,data3]\n",
    "for data in datal :\n",
    "  points = datal\n",
    "  # 将点投影到标准化椭球表面\n",
    "  norm_points = points / np.sqrt((points[:, 0] / a)**2 + (points[:, 1] / b)**2 + (points[:, 2] / c)**2)[:, None]\n",
    "  # 转换为极坐标\n",
    "  theta = np.arccos(norm_points[:, 2])  # 极角\n",
    "  phi = np.arctan2(norm_points[:, 1], norm_points[:, 0])  # 方位角\n",
    "  # 格子划分\n",
    "  num_grid = 10\n",
    "  theta_edges = np.linspace(0, np.pi/2, num_grid + 1)\n",
    "  phi_edges = np.linspace(0, np.pi/2, num_grid + 1)\n",
    "  # 初始化格子计数\n",
    "  grid_counts = np.zeros((num_grid, num_grid))\n",
    "\n",
    "  # 统计点落入的格子\n",
    "  for i in range(len(points)):\n",
    "    theta_idx = np.searchsorted(theta_edges, theta[i], side='right') - 1\n",
    "    phi_idx = np.searchsorted(phi_edges, phi[i], side='right') - 1\n",
    "    if 0 <= theta_idx < num_grid and 0 <= phi_idx < num_grid:\n",
    "        grid_counts[theta_idx, phi_idx] += 1\n",
    "\n",
    "# 输出每个格子的点数\n",
    "  for i in range(num_grid):\n",
    "      for j in range(num_grid):\n",
    "        print(f\"格子 ({i+1}, {j+1}) 中的点数: {int(grid_counts[i, j])}\")\n",
    "\n"
   ]
  }
 ],
 "metadata": {
  "kernelspec": {
   "display_name": "ylj",
   "language": "python",
   "name": "python3"
  },
  "language_info": {
   "codemirror_mode": {
    "name": "ipython",
    "version": 3
   },
   "file_extension": ".py",
   "mimetype": "text/x-python",
   "name": "python",
   "nbconvert_exporter": "python",
   "pygments_lexer": "ipython3",
   "version": "3.12.4"
  }
 },
 "nbformat": 4,
 "nbformat_minor": 2
}
